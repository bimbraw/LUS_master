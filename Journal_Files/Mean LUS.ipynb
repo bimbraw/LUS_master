{
 "cells": [
  {
   "cell_type": "code",
   "execution_count": 69,
   "metadata": {},
   "outputs": [
    {
     "name": "stdout",
     "output_type": "stream",
     "text": [
      "[1.33463886 5.83142467 7.50015319 7.94116327 1.12049104 2.81547466\n",
      " 8.5730005  8.29203301 7.39148165 4.79309358 5.21822982 7.62132628\n",
      " 2.7908694  4.56210638 6.23094706 5.72009564 2.02359993 5.75243104\n",
      " 4.46578467 3.30606156]\n",
      "[15 50 48 27 78 73 97 39 92 83 60 73 52 10 28 48 28 10 16 47]\n",
      "20\n",
      "[46.5, 50.0, 39.57142857142857, 53.6, 68.0, 0, 0, 0, 0, 0, 0, 0, 0, 0, 0, 0, 0, 0, 0, 0]\n",
      "[1, 3, 5, 7, 9, 11, 13, 15, 17, 19, 21, 23, 25, 27, 29, 31, 33, 35, 37, 39]\n"
     ]
    },
    {
     "data": {
      "image/png": "[encoded data removed]",
      "text/plain": [
       "<Figure size 432x288 with 1 Axes>"
      ]
     },
     "metadata": {
      "needs_background": "light"
     },
     "output_type": "display_data"
    }
   ],
   "source": [
    "import numpy as np\n",
    "import matplotlib.pyplot as plt\n",
    "\n",
    "y = np.random.randint(100, size=(20))\n",
    "x = np.random.uniform(low=0.5, high=9.5, size=(20))\n",
    "\n",
    "print(x)\n",
    "print(y)\n",
    "\n",
    "plt.scatter(x, y)\n",
    "\n",
    "val_up = 0\n",
    "print(len(y))\n",
    "\n",
    "for i in range(len(y)):\n",
    "    val = y[i]\n",
    "    val_up = val_up + val\n",
    "\n",
    "#mean = val_up/len(y)\n",
    "#print(len(x)/2)\n",
    "\n",
    "sorted_pairs = sorted((i,j) for i,j in zip(x,y))\n",
    "#print(sorted_pairs)\n",
    "#mean_first = sorted_pairs[0][0] + \n",
    "#print(sorted_pairs[3][0])\n",
    "true_num = 0\n",
    "means = [0] * int(len(x))\n",
    "\n",
    "#print(means)\n",
    "index = -1\n",
    "index_array = [0] * int(len(x))\n",
    "\n",
    "for r in range(int(len(x))):\n",
    "    index += 2\n",
    "    true_num += 2\n",
    "    true_val = 0\n",
    "    summed = 0\n",
    "    for q in range(len(y)):\n",
    "        if sorted_pairs[q][0] < true_num and sorted_pairs[q][0] > (true_num-2):\n",
    "            summed += sorted_pairs[q][1]\n",
    "            true_val += 1\n",
    "        else:\n",
    "            continue\n",
    "    if true_val == 0:\n",
    "        means[r] = 0\n",
    "    else:\n",
    "        means[r] = summed/true_val\n",
    "    index_array[r] = index\n",
    "\n",
    "#print(true_num-2)\n",
    "#print(summed)\n",
    "#print(true_val)\n",
    "#print(summed/true_val)\n",
    "print(means)\n",
    "print(index_array)"
   ]
  },
  {
   "cell_type": "code",
   "execution_count": 110,
   "metadata": {},
   "outputs": [
    {
     "name": "stdout",
     "output_type": "stream",
     "text": [
      "40\n",
      "[0, 0, 0, 0, 0, 0, 0, 0, 0, 0, 0, 0, 0, 0, 0, 0, 0, 0, 67.8, 66.66666666666667, 0, 0, 0, 0, 0, 0, 0, 69.0, 68.0, 66.0, 65.5, 67.8, 68.6, 70.0, 68.5, 66.6, 61.0, 66.5, 67.5, 69.0, 0, 0, 0, 0]\n",
      "[28, 30, 32, 34, 36, 38, 40, 42, 44, 46, 48, 50, 52, 54, 56, 58, 60, 62, -24, -22, -20, -18, -16, -14, -12, -10, -8, -6, -4, -2, 0, 2, 4, 6, 8, 10, 12, 14, 16, 18, 20, 22, 24, 26]\n"
     ]
    },
    {
     "data": {
      "text/plain": [
       "Text(0.5, 1.0, 'Means data')"
      ]
     },
     "execution_count": 110,
     "metadata": {},
     "output_type": "execute_result"
    },
    {
     "data": {
      "image/png": "[encoded data removed]",
      "text/plain": [
       "<Figure size 432x288 with 1 Axes>"
      ]
     },
     "metadata": {
      "needs_background": "light"
     },
     "output_type": "display_data"
    },
    {
     "data": {
      "image/png": "[encoded data removed]",
      "text/plain": [
       "<Figure size 432x288 with 1 Axes>"
      ]
     },
     "metadata": {
      "needs_background": "light"
     },
     "output_type": "display_data"
    }
   ],
   "source": [
    "import numpy as np\n",
    "import matplotlib.pyplot as plt\n",
    "\n",
    "y = [61, 62, 63, 64, 64, 64, 66, 66, 66, 66, 67, 67, 67, 67, 67, 67, 68, 68, 68, 68, 68, 69, 69, 69, 69, 69, 69, 69, 69, 69, 69, 69, 69, 69, 69, 69, 69, 69, 69, 70]\n",
    "x = [10.55,-0.36,-2.46,-23.52,0.24,8.6,8.98,8.33,12.28,14.08,-24.97,-25.95,-23.41,7.31,13.16,2.29,1.35,-24.96,-24.27,-5.9,9.98,-3.63,-0.75,-6.02,-25.67,-23.05,0.68,1.3,2.07,7.98,9.84,7.95,7.41,14.6,17.81,2.22,2.31,1.39,2.31,5.21]\n",
    "\n",
    "plt.figure(0)\n",
    "plt.scatter(x, y)\n",
    "plt.xlim(round(min(x)), round(max(x)))\n",
    "plt.ylim(round(min(y)), round(max(y)))\n",
    "plt.title('Input data')\n",
    "\n",
    "val_up = 0\n",
    "print(len(y))\n",
    "\n",
    "for i in range(len(y)):\n",
    "    val = y[i]\n",
    "    val_up = val_up + val\n",
    "\n",
    "sorted_pairs = sorted((i,j) for i,j in zip(x,y))\n",
    "true_num = round(min(x))\n",
    "means = [0] * (round(max(x)) - round(min(x)))\n",
    "\n",
    "index = round(min(x))\n",
    "index_array = [0] * (round(max(x)) - round(min(x)))\n",
    "\n",
    "for r in range(round(min(x)), round(max(x))):\n",
    "    index += 2\n",
    "    true_num += 2\n",
    "    true_val = 0\n",
    "    summed = 0\n",
    "    for q in range(len(y)):\n",
    "        if sorted_pairs[q][0] < true_num and sorted_pairs[q][0] > (true_num-2):\n",
    "            summed += sorted_pairs[q][1]\n",
    "            true_val += 1\n",
    "        else:\n",
    "            continue\n",
    "    if true_val == 0:\n",
    "        means[r] = 0\n",
    "    else:\n",
    "        means[r] = summed/true_val\n",
    "    index_array[r] = index\n",
    "\n",
    "    \n",
    "print(means)\n",
    "print(index_array)\n",
    "\n",
    "#means = [ p for p in means if round(min(y)) <= p <= round(max(y)) ]\n",
    "#index_array = [ q for q in index_array if round(min(x)) <= q <= round(max(x)) ]\n",
    "\n",
    "#print(means)\n",
    "#print(index_array)\n",
    "#print(len(means))\n",
    "#print(len(index_array))\n",
    "\n",
    "plt.figure(1)\n",
    "plt.scatter(index_array, means)\n",
    "plt.xlim(round(min(x)), round(max(x)))\n",
    "plt.ylim(round(min(y)), round(max(y)))\n",
    "plt.title('Means data')"
   ]
  },
  {
   "cell_type": "code",
   "execution_count": null,
   "metadata": {},
   "outputs": [],
   "source": []
  }
 ],
 "metadata": {
  "kernelspec": {
   "display_name": "Python 3",
   "language": "python",
   "name": "python3"
  },
  "language_info": {
   "codemirror_mode": {
    "name": "ipython",
    "version": 3
   },
   "file_extension": ".py",
   "mimetype": "text/x-python",
   "name": "python",
   "nbconvert_exporter": "python",
   "pygments_lexer": "ipython3",
   "version": "3.8.3"
  }
 },
 "nbformat": 4,
 "nbformat_minor": 4
}
